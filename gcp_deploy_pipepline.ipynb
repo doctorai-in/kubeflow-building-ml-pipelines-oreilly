{
 "cells": [
  {
   "cell_type": "code",
   "execution_count": 2,
   "metadata": {},
   "outputs": [],
   "source": [
    "#!pip3 install tfx==0.22.0"
   ]
  },
  {
   "cell_type": "code",
   "execution_count": 3,
   "metadata": {},
   "outputs": [
    {
     "name": "stdout",
     "output_type": "stream",
     "text": [
      "  % Total    % Received % Xferd  Average Speed   Time    Time     Time  Current\n",
      "                                 Dload  Upload   Total   Spent    Left  Speed\n",
      "100 47.2M  100 47.2M    0     0  7512k      0  0:00:06  0:00:06 --:--:-- 11.0M\n"
     ]
    }
   ],
   "source": [
    "# Download skaffold and set it executable\n",
    "!curl -Lo skaffold https://storage.googleapis.com/skaffold/releases/latest/skaffold-linux-amd64 \\\n",
    "    && chmod +x skaffold && mv skaffold ~/.local/bin"
   ]
  },
  {
   "cell_type": "code",
   "execution_count": null,
   "metadata": {},
   "outputs": [],
   "source": [
    "!gsutil cp components gs://consumer_complaint_gcp_cloud_ai/"
   ]
  },
  {
   "cell_type": "code",
   "execution_count": 9,
   "metadata": {},
   "outputs": [],
   "source": [
    "# Docker image name for the pipeline image\n",
    "CUSTOM_TFX_IMAGE='doctorai/' + \"ml-pipelines-tfx-custom:0.22.0\""
   ]
  },
  {
   "cell_type": "code",
   "execution_count": 10,
   "metadata": {},
   "outputs": [
    {
     "name": "stdout",
     "output_type": "stream",
     "text": [
      "2020-12-16 12:18:00.489400: W tensorflow/stream_executor/platform/default/dso_loader.cc:60] Could not load dynamic library 'libcudart.so.11.0'; dlerror: libcudart.so.11.0: cannot open shared object file: No such file or directory\n",
      "2020-12-16 12:18:00.489425: I tensorflow/stream_executor/cuda/cudart_stub.cc:29] Ignore above cudart dlerror if you do not have a GPU set up on your machine.\n",
      "CLI\n",
      "Creating pipeline\n",
      "Detected Kubeflow.\n",
      "Use --engine flag if you intend to use a different orchestrator.\n",
      "Failed to load kube config.\n",
      "Reading build spec from build.yaml\n",
      "No local setup.py, copying the directory and configuring the PYTHONPATH.\n",
      "[Skaffold] Generating tags...\n",
      "[Skaffold]  - doctorai/ml-pipelines-tfx-custom -> doctorai/ml-pipelines-tfx-custom:0.22.0\n",
      "[Skaffold] Checking cache...\n",
      "[Skaffold]  - doctorai/ml-pipelines-tfx-custom: Not found. Building\n",
      "[Skaffold] Building [doctorai/ml-pipelines-tfx-custom]...\n",
      "[Skaffold] Sending build context to Docker daemon  1.195GB\n",
      "[Skaffold] Step 1/4 : FROM tensorflow/tfx:0.25.0\n",
      "[Skaffold]  ---> 05d9b228cf63\n",
      "[Skaffold] Step 2/4 : WORKDIR /pipeline\n",
      "[Skaffold]  ---> Using cache\n",
      "[Skaffold]  ---> 9a09da0965c6\n",
      "[Skaffold] Step 3/4 : COPY ./ ./\n",
      "[Skaffold]  ---> 5dba568c1c12\n",
      "[Skaffold] Step 4/4 : ENV PYTHONPATH=\"/pipeline:${PYTHONPATH}\"\n",
      "[Skaffold]  ---> Running in 439ba2cd6dbf\n",
      "[Skaffold] Removing intermediate container 439ba2cd6dbf\n",
      "[Skaffold]  ---> 5ecaaeccd7d6\n",
      "[Skaffold] Successfully built 5ecaaeccd7d6\n",
      "[Skaffold] Successfully tagged doctorai/ml-pipelines-tfx-custom:0.22.0\n",
      "[Skaffold] The push refers to repository [docker.io/doctorai/ml-pipelines-tfx-custom]\n",
      "[Skaffold] 5abca88f3b48: Preparing\n",
      "[Skaffold] 64a1f0143671: Preparing\n",
      "[Skaffold] 5dadc0a09248: Preparing\n",
      "[Skaffold] 8fb12d3bda49: Preparing\n",
      "[Skaffold] 2471eac28ba8: Preparing\n",
      "[Skaffold] 674ba689ae71: Preparing\n",
      "[Skaffold] 4058ae03fa32: Preparing\n",
      "[Skaffold] e3437c61d457: Preparing\n",
      "[Skaffold] 84ff92691f90: Preparing\n",
      "[Skaffold] 54b00d861a7a: Preparing\n",
      "[Skaffold] c547358928ab: Preparing\n",
      "[Skaffold] 84ff92691f90: Preparing\n",
      "[Skaffold] c4e66be694ce: Preparing\n",
      "[Skaffold] 47cc65c6dd57: Preparing\n",
      "[Skaffold] 4058ae03fa32: Waiting\n",
      "[Skaffold] c547358928ab: Waiting\n",
      "[Skaffold] e3437c61d457: Waiting\n",
      "[Skaffold] c4e66be694ce: Waiting\n",
      "[Skaffold] 84ff92691f90: Waiting\n",
      "[Skaffold] 47cc65c6dd57: Waiting\n",
      "[Skaffold] 54b00d861a7a: Waiting\n",
      "[Skaffold] 5dadc0a09248: Pushed\n",
      "[Skaffold] 64a1f0143671: Pushed\n",
      "^C\n",
      "\n",
      "Aborted!\n"
     ]
    }
   ],
   "source": [
    "!tfx pipeline create  \\\n",
    "--pipeline-path=pipeline/kubeflow_pipelines/pipeline_kubeflow_gcp_buckets.py \\\n",
    "--build-target-image={CUSTOM_TFX_IMAGE}\n"
   ]
  },
  {
   "cell_type": "code",
   "execution_count": null,
   "metadata": {},
   "outputs": [],
   "source": []
  }
 ],
 "metadata": {
  "kernelspec": {
   "display_name": "Python 3",
   "language": "python",
   "name": "python3"
  },
  "language_info": {
   "codemirror_mode": {
    "name": "ipython",
    "version": 3
   },
   "file_extension": ".py",
   "mimetype": "text/x-python",
   "name": "python",
   "nbconvert_exporter": "python",
   "pygments_lexer": "ipython3",
   "version": "3.6.9"
  }
 },
 "nbformat": 4,
 "nbformat_minor": 4
}
