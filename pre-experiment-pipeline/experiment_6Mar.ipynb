{
 "cells": [
  {
   "cell_type": "code",
   "execution_count": 1,
   "metadata": {},
   "outputs": [],
   "source": [
    "import pandas as pd\n",
    "import os\n",
    "import sys\n",
    "import tensorflow as tf\n",
    "import numpy as np\n",
    "import tensorflow_hub as hub"
   ]
  },
  {
   "cell_type": "code",
   "execution_count": 2,
   "metadata": {},
   "outputs": [],
   "source": [
    "import wandb\n",
    "from wandb.keras import WandbCallback"
   ]
  },
  {
   "cell_type": "code",
   "execution_count": 3,
   "metadata": {},
   "outputs": [],
   "source": [
    "nb_dir = os.path.split(os.getcwd())[0]\n",
    "if nb_dir not in sys.path:\n",
    "    sys.path.append(nb_dir)"
   ]
  },
  {
   "cell_type": "code",
   "execution_count": 4,
   "metadata": {},
   "outputs": [],
   "source": [
    "feature_names = [\"product\", \"sub_product\", \"issue\", \"sub_issue\", \"state\", \"zip_code\", \"company\", \"company_response\", \"timely_response\", \"consumer_disputed\", \"consumer_complaint_narrative\"]\n",
    "one_hot_features = ['product', 'sub_product', 'company_response', 'state', 'issue']\n",
    "numeric_features = ['zip_code']\n",
    "text_features = ['consumer_complaint_narrative']"
   ]
  },
  {
   "cell_type": "code",
   "execution_count": 5,
   "metadata": {},
   "outputs": [],
   "source": [
    "df = pd.read_csv('../data/6Mar/consumer_complaints_with_narrative.csv', usecols=feature_names)"
   ]
  },
  {
   "cell_type": "code",
   "execution_count": 6,
   "metadata": {},
   "outputs": [
    {
     "data": {
      "text/html": [
       "<div>\n",
       "<style scoped>\n",
       "    .dataframe tbody tr th:only-of-type {\n",
       "        vertical-align: middle;\n",
       "    }\n",
       "\n",
       "    .dataframe tbody tr th {\n",
       "        vertical-align: top;\n",
       "    }\n",
       "\n",
       "    .dataframe thead th {\n",
       "        text-align: right;\n",
       "    }\n",
       "</style>\n",
       "<table border=\"1\" class=\"dataframe\">\n",
       "  <thead>\n",
       "    <tr style=\"text-align: right;\">\n",
       "      <th></th>\n",
       "      <th>product</th>\n",
       "      <th>sub_product</th>\n",
       "      <th>issue</th>\n",
       "      <th>sub_issue</th>\n",
       "      <th>consumer_complaint_narrative</th>\n",
       "      <th>company</th>\n",
       "      <th>state</th>\n",
       "      <th>zip_code</th>\n",
       "      <th>company_response</th>\n",
       "      <th>timely_response</th>\n",
       "      <th>consumer_disputed</th>\n",
       "    </tr>\n",
       "  </thead>\n",
       "  <tbody>\n",
       "    <tr>\n",
       "      <th>0</th>\n",
       "      <td>Mortgage</td>\n",
       "      <td>Conventional fixed mortgage</td>\n",
       "      <td>Loan servicing, payments, escrow account</td>\n",
       "      <td>NaN</td>\n",
       "      <td>My mortgage servicing provider ( XXXX ) transf...</td>\n",
       "      <td>SunTrust Banks, Inc.</td>\n",
       "      <td>TX</td>\n",
       "      <td>770XX</td>\n",
       "      <td>Closed with non-monetary relief</td>\n",
       "      <td>Yes</td>\n",
       "      <td>No</td>\n",
       "    </tr>\n",
       "    <tr>\n",
       "      <th>1</th>\n",
       "      <td>Debt collection</td>\n",
       "      <td>Other (i.e. phone, health club, etc.)</td>\n",
       "      <td>Cont'd attempts collect debt not owed</td>\n",
       "      <td>Debt was paid</td>\n",
       "      <td>I HAVE NEVER RECEIVED ANY FORM OF NOTIFICATION...</td>\n",
       "      <td>ERC</td>\n",
       "      <td>CA</td>\n",
       "      <td>913XX</td>\n",
       "      <td>Closed with non-monetary relief</td>\n",
       "      <td>Yes</td>\n",
       "      <td>No</td>\n",
       "    </tr>\n",
       "    <tr>\n",
       "      <th>2</th>\n",
       "      <td>Debt collection</td>\n",
       "      <td>Credit card</td>\n",
       "      <td>Disclosure verification of debt</td>\n",
       "      <td>Not given enough info to verify debt</td>\n",
       "      <td>i contacted walmart and the manager there said...</td>\n",
       "      <td>Synchrony Financial</td>\n",
       "      <td>MA</td>\n",
       "      <td>010XX</td>\n",
       "      <td>Closed with non-monetary relief</td>\n",
       "      <td>Yes</td>\n",
       "      <td>No</td>\n",
       "    </tr>\n",
       "    <tr>\n",
       "      <th>3</th>\n",
       "      <td>Credit reporting</td>\n",
       "      <td>NaN</td>\n",
       "      <td>Credit reporting company's investigation</td>\n",
       "      <td>No notice of investigation status/result</td>\n",
       "      <td>I have filed multiple complaints XXXX on this ...</td>\n",
       "      <td>TransUnion Intermediate Holdings, Inc.</td>\n",
       "      <td>NY</td>\n",
       "      <td>141XX</td>\n",
       "      <td>Closed with explanation</td>\n",
       "      <td>Yes</td>\n",
       "      <td>Yes</td>\n",
       "    </tr>\n",
       "    <tr>\n",
       "      <th>4</th>\n",
       "      <td>Bank account or service</td>\n",
       "      <td>Other bank product/service</td>\n",
       "      <td>Account opening, closing, or management</td>\n",
       "      <td>NaN</td>\n",
       "      <td>Sofi has ignored my request to stop sending me...</td>\n",
       "      <td>Social Finance, Inc.</td>\n",
       "      <td>TX</td>\n",
       "      <td>785XX</td>\n",
       "      <td>Closed with explanation</td>\n",
       "      <td>Yes</td>\n",
       "      <td>No</td>\n",
       "    </tr>\n",
       "  </tbody>\n",
       "</table>\n",
       "</div>"
      ],
      "text/plain": [
       "                   product                            sub_product  \\\n",
       "0                 Mortgage            Conventional fixed mortgage   \n",
       "1          Debt collection  Other (i.e. phone, health club, etc.)   \n",
       "2          Debt collection                            Credit card   \n",
       "3         Credit reporting                                    NaN   \n",
       "4  Bank account or service             Other bank product/service   \n",
       "\n",
       "                                      issue  \\\n",
       "0  Loan servicing, payments, escrow account   \n",
       "1     Cont'd attempts collect debt not owed   \n",
       "2           Disclosure verification of debt   \n",
       "3  Credit reporting company's investigation   \n",
       "4   Account opening, closing, or management   \n",
       "\n",
       "                                  sub_issue  \\\n",
       "0                                       NaN   \n",
       "1                             Debt was paid   \n",
       "2      Not given enough info to verify debt   \n",
       "3  No notice of investigation status/result   \n",
       "4                                       NaN   \n",
       "\n",
       "                        consumer_complaint_narrative  \\\n",
       "0  My mortgage servicing provider ( XXXX ) transf...   \n",
       "1  I HAVE NEVER RECEIVED ANY FORM OF NOTIFICATION...   \n",
       "2  i contacted walmart and the manager there said...   \n",
       "3  I have filed multiple complaints XXXX on this ...   \n",
       "4  Sofi has ignored my request to stop sending me...   \n",
       "\n",
       "                                  company state zip_code  \\\n",
       "0                    SunTrust Banks, Inc.    TX    770XX   \n",
       "1                                     ERC    CA    913XX   \n",
       "2                     Synchrony Financial    MA    010XX   \n",
       "3  TransUnion Intermediate Holdings, Inc.    NY    141XX   \n",
       "4                    Social Finance, Inc.    TX    785XX   \n",
       "\n",
       "                  company_response timely_response consumer_disputed  \n",
       "0  Closed with non-monetary relief             Yes                No  \n",
       "1  Closed with non-monetary relief             Yes                No  \n",
       "2  Closed with non-monetary relief             Yes                No  \n",
       "3          Closed with explanation             Yes               Yes  \n",
       "4          Closed with explanation             Yes                No  "
      ]
     },
     "execution_count": 6,
     "metadata": {},
     "output_type": "execute_result"
    }
   ],
   "source": [
    "df.head()"
   ]
  },
  {
   "cell_type": "code",
   "execution_count": 7,
   "metadata": {},
   "outputs": [
    {
     "name": "stdout",
     "output_type": "stream",
     "text": [
      "product\n",
      "11\n",
      "sub_product\n",
      "45\n",
      "company_response\n",
      "5\n",
      "state\n",
      "60\n",
      "issue\n",
      "90\n"
     ]
    }
   ],
   "source": [
    "for col in one_hot_features:\n",
    "    print(col)\n",
    "    print(df[col].nunique())"
   ]
  },
  {
   "cell_type": "code",
   "execution_count": 7,
   "metadata": {},
   "outputs": [],
   "source": [
    "df['consumer_disputed'] = df['consumer_disputed'].map({'Yes':1, 'No':0})"
   ]
  },
  {
   "cell_type": "code",
   "execution_count": 8,
   "metadata": {},
   "outputs": [],
   "source": [
    "for feature in one_hot_features:\n",
    "    df[feature] = df[feature].astype(\"category\").cat.codes"
   ]
  },
  {
   "cell_type": "code",
   "execution_count": 9,
   "metadata": {},
   "outputs": [],
   "source": [
    "one_hot_x = [pd.np.asarray(tf.keras.utils.to_categorical(df[feature_name].values)) for feature_name in one_hot_features]"
   ]
  },
  {
   "cell_type": "code",
   "execution_count": 10,
   "metadata": {},
   "outputs": [],
   "source": [
    "embedding_x = [pd.np.asarray(df[feature_name].values).reshape(-1) for feature_name in text_features]"
   ]
  },
  {
   "cell_type": "code",
   "execution_count": 11,
   "metadata": {},
   "outputs": [],
   "source": [
    "df['zip_code'] = df['zip_code'].str.replace('X', '0', regex=True)"
   ]
  },
  {
   "cell_type": "code",
   "execution_count": 12,
   "metadata": {},
   "outputs": [],
   "source": [
    "df['zip_code'] = df['zip_code'].str.replace(r'\\[|\\*|\\+|\\-|`|\\.|\\ |\\$|\\/|!|\\(', '0', regex=True)"
   ]
  },
  {
   "cell_type": "code",
   "execution_count": 13,
   "metadata": {},
   "outputs": [],
   "source": [
    "df['zip_code'] = df['zip_code'].fillna(0)"
   ]
  },
  {
   "cell_type": "code",
   "execution_count": 14,
   "metadata": {},
   "outputs": [],
   "source": [
    "df['zip_code'] = df['zip_code'].astype('int32')"
   ]
  },
  {
   "cell_type": "code",
   "execution_count": 15,
   "metadata": {},
   "outputs": [],
   "source": [
    "df['zip_code'] = df['zip_code'].apply(lambda x: x//10000)"
   ]
  },
  {
   "cell_type": "code",
   "execution_count": 16,
   "metadata": {},
   "outputs": [],
   "source": [
    "numeric_x = [df['zip_code'].values]"
   ]
  },
  {
   "cell_type": "code",
   "execution_count": 17,
   "metadata": {},
   "outputs": [],
   "source": [
    "X = one_hot_x + numeric_x + embedding_x"
   ]
  },
  {
   "cell_type": "code",
   "execution_count": 18,
   "metadata": {},
   "outputs": [],
   "source": [
    "y = np.asarray(df[\"consumer_disputed\"], dtype=np.uint8).reshape(-1)"
   ]
  },
  {
   "cell_type": "code",
   "execution_count": 19,
   "metadata": {},
   "outputs": [],
   "source": [
    "def get_model(show_summary=True):\n",
    "    \"\"\"\n",
    "    Function defines a Keras model and returns the model as Keras object\n",
    "    \"\"\"\n",
    "    wandb.init(project=\"consumer-complaints\")\n",
    "    config = wandb.config\n",
    "    config.name='final_features_wide'\n",
    "    #config.hidden_layer_size = 256\n",
    "    config.optimizer = 'adam'\n",
    "    config.learning_rate = 0.001\n",
    "    config.data_version = 'cc_imbalanced_narrative'\n",
    "    config.one_hot_features = one_hot_features\n",
    "    config.numeric_features = numeric_features\n",
    "    config.text_features = text_features\n",
    "    \n",
    "    # one-hot categorical features\n",
    "    num_products = 11\n",
    "    num_sub_products = 45\n",
    "    num_company_responses = 5\n",
    "    num_states = 60\n",
    "    num_issues = 90\n",
    "\n",
    "    input_product = tf.keras.Input(shape=(num_products,), name=\"product_xf\")\n",
    "    input_sub_product = tf.keras.Input(shape=(num_sub_products,), name=\"sub_product_xf\")\n",
    "    input_company_response = tf.keras.Input(shape=(num_company_responses,), name=\"company_response_xf\")\n",
    "    input_state = tf.keras.Input(shape=(num_states,), name=\"state_xf\")\n",
    "    input_issue = tf.keras.Input(shape=(num_issues,), name=\"issue_xf\")\n",
    "    \n",
    "    # numeric features\n",
    "    input_zip_code = tf.keras.Input(shape=(1,), name=\"zip_code_xf\")\n",
    "\n",
    "    # text features\n",
    "    input_narrative = tf.keras.Input(shape=(1,), name=\"narrative_xf\", dtype=tf.string)\n",
    "\n",
    "    # embed text features\n",
    "    module_url = \"https://tfhub.dev/google/universal-sentence-encoder/4\"\n",
    "    embed = hub.KerasLayer(module_url)\n",
    "    reshaped_narrative = tf.reshape(input_narrative, [-1])\n",
    "    embed_narrative = embed(reshaped_narrative) \n",
    "    deep_ff = tf.keras.layers.Reshape((512, ), input_shape=(1, 512))(embed_narrative)\n",
    "    \n",
    "    deep = tf.keras.layers.Dense(256, activation='relu')(deep_ff)\n",
    "    deep = tf.keras.layers.Dense(64, activation='relu')(deep)\n",
    "    deep = tf.keras.layers.Dense(16, activation='relu')(deep)\n",
    "\n",
    "    wide_ff = tf.keras.layers.concatenate(\n",
    "        [input_product, input_sub_product, input_company_response, \n",
    "         input_state, input_issue, input_zip_code])\n",
    "    wide = tf.keras.layers.Dense(16, activation='relu')(wide_ff)\n",
    "\n",
    "\n",
    "    both = tf.keras.layers.concatenate([deep, wide])\n",
    "\n",
    "    output = tf.keras.layers.Dense(1, activation='sigmoid')(both) \n",
    "\n",
    "    _inputs = [input_product, input_sub_product, input_company_response,  \n",
    "               input_state, input_issue, input_zip_code, input_narrative]\n",
    "\n",
    "    keras_model = tf.keras.models.Model(_inputs, output)\n",
    "    keras_model.compile(optimizer=tf.keras.optimizers.Adam(learning_rate=0.001),\n",
    "                     loss='binary_crossentropy',  \n",
    "                     metrics=[\n",
    "                         tf.keras.metrics.BinaryAccuracy(),\n",
    "                         tf.keras.metrics.TruePositives()\n",
    "                         ])\n",
    "    if show_summary:\n",
    "        keras_model.summary()\n",
    "\n",
    "    return keras_model"
   ]
  },
  {
   "cell_type": "code",
   "execution_count": 21,
   "metadata": {},
   "outputs": [
    {
     "data": {
      "text/html": [
       "\n",
       "                Logging results to <a href=\"https://wandb.com\" target=\"_blank\">Weights & Biases</a> <a href=\"https://docs.wandb.com/integrations/jupyter.html\" target=\"_blank\">(Documentation)</a>.<br/>\n",
       "                Project page: <a href=\"https://app.wandb.ai/drcat101/consumer-complaints\" target=\"_blank\">https://app.wandb.ai/drcat101/consumer-complaints</a><br/>\n",
       "                Run page: <a href=\"https://app.wandb.ai/drcat101/consumer-complaints/runs/k12ujp7i\" target=\"_blank\">https://app.wandb.ai/drcat101/consumer-complaints/runs/k12ujp7i</a><br/>\n",
       "            "
      ],
      "text/plain": [
       "<IPython.core.display.HTML object>"
      ]
     },
     "metadata": {},
     "output_type": "display_data"
    },
    {
     "name": "stderr",
     "output_type": "stream",
     "text": [
      "wandb: Wandb version 0.8.29 is available!  To upgrade, please run:\n",
      "wandb:  $ pip install wandb --upgrade\n"
     ]
    }
   ],
   "source": [
    "model = get_model(show_summary=False)"
   ]
  },
  {
   "cell_type": "code",
   "execution_count": 22,
   "metadata": {},
   "outputs": [
    {
     "name": "stderr",
     "output_type": "stream",
     "text": [
      "wandb: Wandb version 0.8.29 is available!  To upgrade, please run:\n",
      "wandb:  $ pip install wandb --upgrade\n"
     ]
    },
    {
     "name": "stdout",
     "output_type": "stream",
     "text": [
      "Epoch 1/5\n",
      "1671/1671 [==============================] - 132s 79ms/step - loss: 0.5212 - binary_accuracy: 0.7677 - true_positives: 66.0000 - val_loss: 0.5112 - val_binary_accuracy: 0.7671 - val_true_positives: 53.0000\n",
      "Epoch 2/5\n",
      "1671/1671 [==============================] - 89s 53ms/step - loss: 0.5104 - binary_accuracy: 0.7699 - true_positives: 351.0000 - val_loss: 0.5123 - val_binary_accuracy: 0.7675 - val_true_positives: 58.0000\n",
      "Epoch 3/5\n",
      "1671/1671 [==============================] - 93s 55ms/step - loss: 0.5046 - binary_accuracy: 0.7714 - true_positives: 564.0000 - val_loss: 0.5092 - val_binary_accuracy: 0.7706 - val_true_positives: 174.0000\n",
      "Epoch 4/5\n",
      "1671/1671 [==============================] - 89s 53ms/step - loss: 0.4986 - binary_accuracy: 0.7730 - true_positives: 839.0000 - val_loss: 0.5106 - val_binary_accuracy: 0.7706 - val_true_positives: 204.0000\n",
      "Epoch 5/5\n",
      "1671/1671 [==============================] - 86s 51ms/step - loss: 0.4915 - binary_accuracy: 0.7753 - true_positives: 1089.0000 - val_loss: 0.5118 - val_binary_accuracy: 0.7700 - val_true_positives: 216.0000\n"
     ]
    },
    {
     "data": {
      "text/plain": [
       "<tensorflow.python.keras.callbacks.History at 0x144aeae10>"
      ]
     },
     "execution_count": 22,
     "metadata": {},
     "output_type": "execute_result"
    }
   ],
   "source": [
    "model.fit(x=X, y=y, batch_size=32, validation_split=0.2, epochs=5, \n",
    "          callbacks=[WandbCallback()])"
   ]
  },
  {
   "cell_type": "code",
   "execution_count": 7,
   "metadata": {},
   "outputs": [
    {
     "name": "stdout",
     "output_type": "stream",
     "text": [
      "Failed to import pydot. You must install pydot and graphviz for `pydotprint` to work.\n"
     ]
    }
   ],
   "source": [
    "#from IPython.display import Image\n",
    "\n",
    "file_name = 'model.png'\n",
    "tf.keras.utils.plot_model(model, to_file=file_name)\n",
    "#Image(filename=file_name)"
   ]
  },
  {
   "cell_type": "code",
   "execution_count": null,
   "metadata": {},
   "outputs": [],
   "source": [
    "def get_model(show_summary=True):\n",
    "    \"\"\"\n",
    "    Function defines a Keras model and returns the model as Keras object\n",
    "    \"\"\"\n",
    "    \n",
    "    # one-hot categorical features\n",
    "    num_products = 11\n",
    "    num_sub_products = 45\n",
    "    num_company_responses = 5\n",
    "    num_states = 60\n",
    "    num_issues = 90\n",
    "\n",
    "    input_product = tf.keras.Input(shape=(num_products,), name=\"product_xf\")\n",
    "    input_sub_product = tf.keras.Input(shape=(num_sub_products,), name=\"sub_product_xf\")\n",
    "    input_company_response = tf.keras.Input(shape=(num_company_responses,), name=\"company_response_xf\")\n",
    "    input_state = tf.keras.Input(shape=(num_states,), name=\"state_xf\")\n",
    "    input_issue = tf.keras.Input(shape=(num_issues,), name=\"issue_xf\")\n",
    "    \n",
    "    # numeric features\n",
    "    input_zip_code = tf.keras.Input(shape=(1,), name=\"zip_code_xf\")\n",
    "\n",
    "    # text features\n",
    "    input_narrative = tf.keras.Input(shape=(1,), name=\"narrative_xf\", dtype=tf.string)\n",
    "\n",
    "    # embed text features\n",
    "    module_url = \"https://tfhub.dev/google/universal-sentence-encoder/4\"\n",
    "    embed = hub.KerasLayer(module_url)\n",
    "    reshaped_narrative = tf.reshape(input_narrative, [-1])\n",
    "    embed_narrative = embed(reshaped_narrative) \n",
    "    deep_ff = tf.keras.layers.Reshape((512, ), input_shape=(1, 512))(embed_narrative)\n",
    "    \n",
    "    deep = tf.keras.layers.Dense(256, activation='relu')(deep_ff)\n",
    "    deep = tf.keras.layers.Dense(64, activation='relu')(deep)\n",
    "    deep = tf.keras.layers.Dense(16, activation='relu')(deep)\n",
    "\n",
    "    wide_ff = tf.keras.layers.concatenate(\n",
    "        [input_product, input_sub_product, input_company_response, \n",
    "         input_state, input_issue, input_zip_code])\n",
    "    wide = tf.keras.layers.Dense(16, activation='relu')(wide_ff)\n",
    "\n",
    "\n",
    "    both = tf.keras.layers.concatenate([deep, wide])\n",
    "\n",
    "    output = tf.keras.layers.Dense(1, activation='sigmoid')(both) \n",
    "\n",
    "    _inputs = [input_product, input_sub_product, input_company_response,  \n",
    "               input_state, input_issue, input_zip_code, input_narrative]\n",
    "\n",
    "    keras_model = tf.keras.models.Model(_inputs, output)\n",
    "    keras_model.compile(optimizer=tf.keras.optimizers.Adam(learning_rate=0.001),\n",
    "                     loss='binary_crossentropy',  \n",
    "                     metrics=[\n",
    "                         tf.keras.metrics.BinaryAccuracy(),\n",
    "                         tf.keras.metrics.TruePositives()\n",
    "                         ])\n",
    "    if show_summary:\n",
    "        keras_model.summary()\n",
    "\n",
    "    return keras_model"
   ]
  }
 ],
 "metadata": {
  "kernelspec": {
   "display_name": "Python 3",
   "language": "python",
   "name": "python3"
  },
  "language_info": {
   "codemirror_mode": {
    "name": "ipython",
    "version": 3
   },
   "file_extension": ".py",
   "mimetype": "text/x-python",
   "name": "python",
   "nbconvert_exporter": "python",
   "pygments_lexer": "ipython3",
   "version": "3.7.2"
  }
 },
 "nbformat": 4,
 "nbformat_minor": 4
}
